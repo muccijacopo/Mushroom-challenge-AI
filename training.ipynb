{
 "cells": [
  {
   "cell_type": "code",
   "execution_count": 80,
   "id": "greek-claim",
   "metadata": {},
   "outputs": [
    {
     "name": "stdout",
     "output_type": "stream",
     "text": [
      "Requirement already satisfied: numpy==1.20.1 in /usr/local/lib/python3.9/site-packages (from -r requirements.txt (line 1)) (1.20.1)\n",
      "Requirement already satisfied: pandas==1.2.3 in /usr/local/lib/python3.9/site-packages (from -r requirements.txt (line 2)) (1.2.3)\n",
      "Requirement already satisfied: scikit-learn==0.24.1 in /usr/local/lib/python3.9/site-packages (from -r requirements.txt (line 3)) (0.24.1)\n",
      "Requirement already satisfied: python-dateutil>=2.7.3 in /usr/local/lib/python3.9/site-packages (from pandas==1.2.3->-r requirements.txt (line 2)) (2.8.1)\n",
      "Requirement already satisfied: pytz>=2017.3 in /usr/local/lib/python3.9/site-packages (from pandas==1.2.3->-r requirements.txt (line 2)) (2021.1)\n",
      "Requirement already satisfied: threadpoolctl>=2.0.0 in /usr/local/lib/python3.9/site-packages (from scikit-learn==0.24.1->-r requirements.txt (line 3)) (2.1.0)\n",
      "Requirement already satisfied: scipy>=0.19.1 in /usr/local/lib/python3.9/site-packages (from scikit-learn==0.24.1->-r requirements.txt (line 3)) (1.6.2)\n",
      "Requirement already satisfied: joblib>=0.11 in /usr/local/lib/python3.9/site-packages (from scikit-learn==0.24.1->-r requirements.txt (line 3)) (1.0.1)\n",
      "Requirement already satisfied: six>=1.5 in /usr/local/lib/python3.9/site-packages (from python-dateutil>=2.7.3->pandas==1.2.3->-r requirements.txt (line 2)) (1.15.0)\n",
      "\u001b[33mWARNING: You are using pip version 21.0.1; however, version 21.1.2 is available.\n",
      "You should consider upgrading via the '/usr/local/opt/python@3.9/bin/python3.9 -m pip install --upgrade pip' command.\u001b[0m\n"
     ]
    }
   ],
   "source": [
    "!pip install -r requirements.txt"
   ]
  },
  {
   "cell_type": "code",
   "execution_count": 81,
   "id": "traditional-madagascar",
   "metadata": {},
   "outputs": [],
   "source": [
    "import pandas as pd\n",
    "import numpy as np\n",
    "from sklearn.preprocessing import LabelEncoder\n",
    "from sklearn.model_selection import train_test_split\n",
    "from sklearn.feature_selection import SelectFromModel, SelectKBest, chi2\n",
    "from sklearn.tree import DecisionTreeClassifier\n",
    "from sklearn.svm import SVC"
   ]
  },
  {
   "cell_type": "code",
   "execution_count": 82,
   "id": "aging-romance",
   "metadata": {},
   "outputs": [],
   "source": [
    "train = pd.read_csv('train.csv')\n",
    "test = pd.read_csv('test.csv')\n",
    "# pd.options.display.max_columns = None\n",
    "# pd.options.display.max_rows = 20"
   ]
  },
  {
   "cell_type": "code",
   "execution_count": 83,
   "id": "tutorial-privacy",
   "metadata": {},
   "outputs": [],
   "source": [
    "train['stalk-root'] = train['stalk-root'].replace('\\?', np.NaN, regex=True)\n",
    "test['stalk-root'] = test['stalk-root'].replace('\\?', np.NaN, regex=True)"
   ]
  },
  {
   "cell_type": "code",
   "execution_count": 84,
   "id": "soviet-dispatch",
   "metadata": {},
   "outputs": [],
   "source": [
    "features = train.drop('class', axis=1).columns\n",
    "X_train = train[features]\n",
    "y_train = train['class']\n",
    "X_test = test[features]\n",
    "y_test = test['class']"
   ]
  },
  {
   "cell_type": "code",
   "execution_count": 85,
   "id": "fatty-spray",
   "metadata": {},
   "outputs": [],
   "source": [
    "label_encoder = LabelEncoder()\n",
    "X_train_encoded = X_train.apply(LabelEncoder().fit_transform)\n",
    "X_test_encoded = X_test.apply(LabelEncoder().fit_transform)"
   ]
  },
  {
   "cell_type": "code",
   "execution_count": 86,
   "id": "stupid-portuguese",
   "metadata": {},
   "outputs": [],
   "source": [
    "#Feature Selection\n",
    "#logistic = LogisticRegression(penalty = \"l2\", max_iter = 100).fit(train_X, train_y)\n",
    "#model = SelectFromModel(logistic, prefit = True)\n",
    "\n",
    "# selections = model.transform(train_X)\n",
    "#X_columns = pd.DataFrame(model.inverse_transform(selections),\n",
    " #                              columns = features)\n",
    "\n",
    "# selected_columns = X_columns.columns[X_columns.var() != 0]\n",
    "# train_X = train_X[selected_columns]\n",
    "# test_X = test_X[selected_columns]"
   ]
  },
  {
   "cell_type": "code",
   "execution_count": 87,
   "id": "simple-medicare",
   "metadata": {},
   "outputs": [
    {
     "name": "stdout",
     "output_type": "stream",
     "text": [
      "Training set accuracy: 100.0%\n"
     ]
    }
   ],
   "source": [
    "tree = DecisionTreeClassifier()\n",
    "tree.fit(X_train_encoded, y_train)\n",
    "print(f'Training set accuracy: {tree.score(X_train_encoded, y_train) * 100}%')"
   ]
  },
  {
   "cell_type": "code",
   "execution_count": 88,
   "id": "oriental-delta",
   "metadata": {},
   "outputs": [
    {
     "name": "stdout",
     "output_type": "stream",
     "text": [
      "Test set accuracy: 100.0%\n"
     ]
    }
   ],
   "source": [
    "print(f'Test set accuracy: {tree.score(X_test_encoded, y_test) * 100}%')"
   ]
  },
  {
   "cell_type": "code",
   "execution_count": 89,
   "id": "outer-blues",
   "metadata": {},
   "outputs": [
    {
     "name": "stdout",
     "output_type": "stream",
     "text": [
      " Training set score 99.53837276399308%\n",
      "Test set score: 96.76923076923077%\n"
     ]
    }
   ],
   "source": [
    "svc = SVC()\n",
    "svc.fit(X_train_encoded, y_train)\n",
    "print(f\" Training set score {svc.score(X_train_encoded, y_train) * 100}%\")\n",
    "\n",
    "svc.fit(X_test_encoded, y_test)\n",
    "print(f\"Test set score: {svc.score(X_test_encoded, y_test) * 100}%\")\n",
    "\n",
    "# y_pred = svc.predict(X_test_encoded)\n",
    "# acc_svc = round(accuracy_score(y_pred, y_test) * 100, 2)\n",
    "# print(acc_svc)"
   ]
  }
 ],
 "metadata": {
  "kernelspec": {
   "display_name": "Python 3",
   "language": "python",
   "name": "python3"
  },
  "language_info": {
   "codemirror_mode": {
    "name": "ipython",
    "version": 3
   },
   "file_extension": ".py",
   "mimetype": "text/x-python",
   "name": "python",
   "nbconvert_exporter": "python",
   "pygments_lexer": "ipython3",
   "version": "3.9.1"
  }
 },
 "nbformat": 4,
 "nbformat_minor": 5
}
