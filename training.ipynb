{
 "cells": [
  {
   "cell_type": "code",
   "execution_count": 1,
   "id": "greek-claim",
   "metadata": {},
   "outputs": [],
   "source": [
    "# !pip install -r requirements.txt"
   ]
  },
  {
   "cell_type": "code",
   "execution_count": 195,
   "id": "traditional-madagascar",
   "metadata": {},
   "outputs": [],
   "source": [
    "import pandas as pd\n",
    "import numpy as np\n",
    "from sklearn.preprocessing import LabelEncoder\n",
    "from sklearn.feature_selection import SelectFromModel\n",
    "from sklearn.linear_model import LogisticRegression\n",
    "from sklearn.tree import DecisionTreeClassifier"
   ]
  },
  {
   "cell_type": "code",
   "execution_count": 196,
   "id": "aging-romance",
   "metadata": {},
   "outputs": [],
   "source": [
    "train = pd.read_csv('train.csv')\n",
    "test = pd.read_csv('test.csv')\n",
    "pd.options.display.max_columns = None\n",
    "# pd.options.display.max_rows = 20"
   ]
  },
  {
   "cell_type": "code",
   "execution_count": 197,
   "id": "tutorial-privacy",
   "metadata": {},
   "outputs": [
    {
     "name": "stdout",
     "output_type": "stream",
     "text": [
      "class                       0\n",
      "cap-shape                   0\n",
      "cap-surface                 0\n",
      "cap-color                   0\n",
      "bruises                     0\n",
      "odor                        0\n",
      "gill-attachment             0\n",
      "gill-spacing                0\n",
      "gill-size                   0\n",
      "gill-color                  0\n",
      "stalk-shape                 0\n",
      "stalk-root                  0\n",
      "stalk-surface-above-ring    0\n",
      "stalk-surface-below-ring    0\n",
      "stalk-color-above-ring      0\n",
      "stalk-color-below-ring      0\n",
      "veil-type                   0\n",
      "veil-color                  0\n",
      "ring-number                 0\n",
      "ring-type                   0\n",
      "spore-print-color           0\n",
      "population                  0\n",
      "habitat                     0\n",
      "dtype: int64\n",
      "Percentage null values in stalk-root [train]: 31.140603962300446%\n",
      "Percentage null values in stalk-root [test]: 29.846153846153843%\n"
     ]
    }
   ],
   "source": [
    "# Considerazione su missing values\n",
    "print(train.isna().sum())\n",
    "# Il dataset non contiene valori NaN in partenza\n",
    "# Ma contiene dei caratteri \"?\" che indicano dei missing\n",
    "# sostituisco i missing con NaN\n",
    "train['stalk-root'] = train['stalk-root'].replace('\\?', np.NaN, regex=True)\n",
    "test['stalk-root'] = test['stalk-root'].replace('\\?', np.NaN, regex=True)\n",
    "null_train_values = train['stalk-root'].isna().sum()\n",
    "null_test_values = test['stalk-root'].isna().sum()\n",
    "print(f\"Percentage null values in stalk-root [train]: {null_train_values / train.shape[0] * 100}%\")\n",
    "print(f\"Percentage null values in stalk-root [test]: {null_test_values / test.shape[0] * 100}%\")"
   ]
  },
  {
   "cell_type": "code",
   "execution_count": 198,
   "id": "soviet-dispatch",
   "metadata": {},
   "outputs": [],
   "source": [
    "features = train.drop('class', axis=1).columns\n",
    "X_train = train[features]\n",
    "y_train = train['class']\n",
    "X_test = test[features]\n",
    "y_test = test['class']"
   ]
  },
  {
   "cell_type": "code",
   "execution_count": 199,
   "id": "fatty-spray",
   "metadata": {},
   "outputs": [],
   "source": [
    "label_encoder = LabelEncoder()\n",
    "X_train_encoded = X_train.apply(LabelEncoder().fit_transform)\n",
    "X_test_encoded = X_test.apply(LabelEncoder().fit_transform)"
   ]
  },
  {
   "cell_type": "code",
   "execution_count": 200,
   "id": "stupid-portuguese",
   "metadata": {},
   "outputs": [],
   "source": [
    "# Feature Selection\n",
    "# selector = SelectFromModel(estimator=LogisticRegression(penalty='l2', max_iter=1000, random_state=20)).fit(X_train_encoded, y_train)\n",
    "# selected_features = X_train_encoded.columns[selector.get_support()]\n",
    "\n",
    "# X_train_encoded = X_train_encoded[selected_features]\n",
    "# X_test_encoded = X_test_encoded[selected_features]"
   ]
  },
  {
   "cell_type": "code",
   "execution_count": 207,
   "id": "simple-medicare",
   "metadata": {},
   "outputs": [
    {
     "data": {
      "text/plain": [
       "DecisionTreeClassifier(max_depth=6, random_state=20)"
      ]
     },
     "execution_count": 207,
     "metadata": {},
     "output_type": "execute_result"
    }
   ],
   "source": [
    "## Addestramento del modello sul training set\n",
    "tree = DecisionTreeClassifier(max_depth=6, random_state=20) # basta una profondità di livello 6 per ottenere uno score prossimo al 100%\n",
    "tree.fit(X_train_encoded, y_train)"
   ]
  },
  {
   "cell_type": "code",
   "execution_count": 208,
   "id": "oriental-delta",
   "metadata": {},
   "outputs": [
    {
     "name": "stdout",
     "output_type": "stream",
     "text": [
      "Training set accuracy: 99.88459319099827%\n",
      "Test set accuracy: 99.92307692307692%\n"
     ]
    }
   ],
   "source": [
    "## Accuracy su training e test set\n",
    "print(f'Training set accuracy: {tree.score(X_train_encoded, y_train) * 100}%')\n",
    "print(f'Test set accuracy: {tree.score(X_test_encoded, y_test) * 100}%')"
   ]
  },
  {
   "cell_type": "code",
   "execution_count": null,
   "id": "level-chancellor",
   "metadata": {},
   "outputs": [],
   "source": []
  }
 ],
 "metadata": {
  "kernelspec": {
   "display_name": "Python 3",
   "language": "python",
   "name": "python3"
  },
  "language_info": {
   "codemirror_mode": {
    "name": "ipython",
    "version": 3
   },
   "file_extension": ".py",
   "mimetype": "text/x-python",
   "name": "python",
   "nbconvert_exporter": "python",
   "pygments_lexer": "ipython3",
   "version": "3.9.1"
  }
 },
 "nbformat": 4,
 "nbformat_minor": 5
}
